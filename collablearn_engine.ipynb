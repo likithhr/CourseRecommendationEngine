{
 "cells": [
  {
   "cell_type": "code",
   "execution_count": null,
   "id": "10737433",
   "metadata": {},
   "outputs": [],
   "source": [
    "import pandas as pd\n",
    "import matplotlib.pyplot as plt\n",
    "import seaborn as sns\n",
    "from sklearn.model_selection import train_test_split\n",
    "from sklearn.preprocessing import LabelEncoder, StandardScaler\n",
    "from sklearn.svm import SVC\n",
    "from sklearn.linear_model import LogisticRegression\n",
    "from sklearn.ensemble import RandomForestClassifier\n",
    "from sklearn.tree import DecisionTreeClassifier\n",
    "from sklearn.metrics import accuracy_score, classification_report, confusion_matrix"
   ]
  },
  {
   "cell_type": "code",
   "execution_count": null,
   "id": "a5cd1212",
   "metadata": {},
   "outputs": [],
   "source": [
    "# Load the dataset\n",
    "file_path = \"udemy_courses.csv\"  # Change if necessary\n",
    "df = pd.read_csv(file_path)"
   ]
  },
  {
   "cell_type": "markdown",
   "id": "e9155944",
   "metadata": {},
   "source": [
    "Data Analysis\n"
   ]
  },
  {
   "cell_type": "code",
   "execution_count": null,
   "id": "9df0d180",
   "metadata": {},
   "outputs": [],
   "source": [
    "\n",
    "# Exploratory Data Analysis (EDA)\n",
    "print(\"Dataset Info:\")\n",
    "print(df.info())\n",
    "print(\"\\nSummary Statistics:\")\n",
    "print(df.describe())\n",
    "print(\"\\nMissing Values:\")\n",
    "print(df.isnull().sum())"
   ]
  },
  {
   "cell_type": "markdown",
   "id": "3acc95c3",
   "metadata": {},
   "source": [
    "Distribution visualization"
   ]
  },
  {
   "cell_type": "code",
   "execution_count": null,
   "id": "28443e16",
   "metadata": {},
   "outputs": [],
   "source": [
    "# Visualizing distributions\n",
    "plt.figure(figsize=(10, 5))\n",
    "sns.histplot(df['price'], bins=30, kde=True)\n",
    "plt.title(\"Price Distribution\")\n",
    "plt.show()\n",
    "\n",
    "plt.figure(figsize=(10, 5))\n",
    "sns.histplot(df['num_subscribers'], bins=30, kde=True)\n",
    "plt.title(\"Number of Subscribers Distribution\")\n",
    "plt.show()\n",
    "\n",
    "plt.figure(figsize=(10, 5))\n",
    "sns.countplot(x='level', data=df)\n",
    "plt.title(\"Course Levels Distribution\")\n",
    "plt.show()\n",
    "\n",
    "plt.figure(figsize=(10, 5))\n",
    "sns.countplot(x='subject', data=df)\n",
    "plt.title(\"Subject Distribution\")\n",
    "plt.show()"
   ]
  },
  {
   "cell_type": "markdown",
   "id": "19d7ae7b",
   "metadata": {},
   "source": [
    "Column Drop"
   ]
  },
  {
   "cell_type": "code",
   "execution_count": null,
   "id": "7f083e42",
   "metadata": {},
   "outputs": [],
   "source": [
    "# Drop only the columns that exist in the dataset\n",
    "columns_to_drop = [\"course_id\", \"url\", \"published_timestamp\",\"course_title\"]\n",
    "df = df.drop(columns=[col for col in columns_to_drop if col in df.columns], errors='ignore')\n"
   ]
  },
  {
   "cell_type": "markdown",
   "id": "25b7fb01",
   "metadata": {},
   "source": [
    "Encoding"
   ]
  },
  {
   "cell_type": "code",
   "execution_count": null,
   "id": "57f9fd62",
   "metadata": {},
   "outputs": [],
   "source": [
    "# Encode categorical features\n",
    "label_encoders = {}\n",
    "for col in [\"level\", \"subject\"]:\n",
    "    le = LabelEncoder()\n",
    "    df[col] = le.fit_transform(df[col])\n",
    "    label_encoders[col] = le"
   ]
  },
  {
   "cell_type": "markdown",
   "id": "388a3a5e",
   "metadata": {},
   "source": [
    "Standardizing"
   ]
  },
  {
   "cell_type": "code",
   "execution_count": null,
   "id": "e43bc9a5",
   "metadata": {},
   "outputs": [],
   "source": [
    "# Standardize numerical features\n",
    "scaler = StandardScaler()\n",
    "num_cols = [\"price\", \"num_subscribers\", \"num_reviews\", \"num_lectures\", \"content_duration\"]\n",
    "df[num_cols] = scaler.fit_transform(df[num_cols])\n"
   ]
  },
  {
   "cell_type": "markdown",
   "id": "18401dc0",
   "metadata": {},
   "source": [
    "Spliting Data"
   ]
  },
  {
   "cell_type": "code",
   "execution_count": null,
   "id": "4724cf6c",
   "metadata": {},
   "outputs": [],
   "source": [
    "# Split data into train and test sets\n",
    "X = df.drop(columns=[\"subject\"])  # Feature matrix\n",
    "y = df[\"subject\"]  # Target variable\n",
    "X_train, X_test, y_train, y_test = train_test_split(X, y, test_size=0.2, random_state=42, stratify=y)\n"
   ]
  },
  {
   "cell_type": "markdown",
   "id": "7b26b9da",
   "metadata": {},
   "source": [
    "Model Intialization"
   ]
  },
  {
   "cell_type": "code",
   "execution_count": null,
   "id": "e01e0d3b",
   "metadata": {},
   "outputs": [],
   "source": [
    "# Initialize models\n",
    "models = {\n",
    "    \"SVM\": SVC(),\n",
    "    \"Logistic Regression\": LogisticRegression(max_iter=1000),\n",
    "    \"Random Forest\": RandomForestClassifier(),\n",
    "    \"Decision Tree\": DecisionTreeClassifier()\n",
    "}\n"
   ]
  },
  {
   "cell_type": "markdown",
   "id": "52fcbe55",
   "metadata": {},
   "source": [
    "Train and Evaluation"
   ]
  },
  {
   "cell_type": "code",
   "execution_count": null,
   "id": "2fe092ee",
   "metadata": {},
   "outputs": [],
   "source": [
    "accuracy_results = {}\n",
    "reports = {}\n",
    "conf_matrices = {}\n",
    "\n",
    "for name, model in models.items():\n",
    "    model.fit(X_train, y_train)\n",
    "    y_pred = model.predict(X_test)\n",
    "    accuracy = accuracy_score(y_test, y_pred)\n",
    "    accuracy_results[name] = accuracy\n",
    "    reports[name] = classification_report(y_test, y_pred, output_dict=True)\n",
    "    conf_matrices[name] = confusion_matrix(y_test, y_pred)\n",
    "\n",
    "# Show results\n",
    "print(\"\\n✅ Accuracy Results:\\n\", accuracy_results)"
   ]
  },
  {
   "cell_type": "markdown",
   "id": "56fc10bd",
   "metadata": {},
   "source": [
    "Accuracy Comparision"
   ]
  },
  {
   "cell_type": "code",
   "execution_count": null,
   "id": "d0272c1b",
   "metadata": {},
   "outputs": [],
   "source": [
    "# Plot model accuracy comparison\n",
    "plt.figure(figsize=(8, 5))\n",
    "plt.bar(accuracy_results.keys(), accuracy_results.values(), color=['blue', 'green', 'red', 'purple'])\n",
    "plt.xlabel(\"Models\")\n",
    "plt.ylabel(\"Accuracy\")\n",
    "plt.title(\"Model Accuracy Comparison\")\n",
    "plt.ylim(0, 1)  # Accuracy ranges from 0 to 1\n",
    "plt.show()\n"
   ]
  },
  {
   "cell_type": "markdown",
   "id": "86493074",
   "metadata": {},
   "source": [
    "Confusion Matrices"
   ]
  },
  {
   "cell_type": "code",
   "execution_count": null,
   "id": "fa80fc78",
   "metadata": {},
   "outputs": [],
   "source": [
    "# Plot confusion matrices\n",
    "fig, axes = plt.subplots(2, 2, figsize=(15, 10))\n",
    "axes = axes.ravel()\n",
    "for i, (name, cm) in enumerate(conf_matrices.items()):\n",
    "    sns.heatmap(cm, annot=True, fmt='d', ax=axes[i], cmap='Blues')\n",
    "    axes[i].set_title(f'Confusion Matrix - {name}')\n",
    "    axes[i].set_xlabel('Predicted Label')\n",
    "    axes[i].set_ylabel('True Label')\n",
    "plt.tight_layout()\n",
    "plt.show()"
   ]
  },
  {
   "cell_type": "markdown",
   "id": "a82e6f2e",
   "metadata": {},
   "source": [
    "Precision,Recall and F1 score"
   ]
  },
  {
   "cell_type": "code",
   "execution_count": null,
   "id": "25df3248",
   "metadata": {},
   "outputs": [],
   "source": [
    "# Plot precision, recall, and F1-score\n",
    "metrics = ['precision', 'recall', 'f1-score']\n",
    "for metric in metrics:\n",
    "    plt.figure(figsize=(8, 5))\n",
    "    scores = {name: [reports[name][str(i)][metric] for i in range(len(label_encoders['subject'].classes_))] for name in reports}\n",
    "    for model, values in scores.items():\n",
    "        plt.plot(range(len(values)), values, marker='o', label=model)\n",
    "    plt.xlabel(\"Class Labels\")\n",
    "    plt.ylabel(metric.capitalize())\n",
    "    plt.title(f\"{metric.capitalize()} Comparison Across Models\")\n",
    "    plt.legend()\n",
    "    plt.show()"
   ]
  },
  {
   "cell_type": "markdown",
   "id": "b63a3d69",
   "metadata": {},
   "source": [
    "recommendation logic"
   ]
  },
  {
   "cell_type": "code",
   "execution_count": null,
   "id": "14f4db0b",
   "metadata": {},
   "outputs": [],
   "source": [
    "def recommend_courses(subject, level, budget):\n",
    "    filtered = df[\n",
    "        (df['subject'].str.lower() == subject.lower()) &\n",
    "        (df['level'].str.lower() == level.lower()) &\n",
    "        (df['price'] <= budget)\n",
    "    ]\n",
    "    return filtered.sort_values(by='num_subscribers', ascending=False).head(5)\n"
   ]
  },
  {
   "cell_type": "code",
   "execution_count": null,
   "id": "f8a09a14",
   "metadata": {},
   "outputs": [],
   "source": [
    "import ipywidgets as widgets\n",
    "from IPython.display import display, Markdown\n",
    "\n",
    "# Dropdown for subject\n",
    "subject_dropdown = widgets.Dropdown(\n",
    "    options=df['subject'].unique().tolist(),\n",
    "    description='Subject:'\n",
    ")\n",
    "\n",
    "# Dropdown for level\n",
    "level_dropdown = widgets.Dropdown(\n",
    "    options=df['level'].unique().tolist(),\n",
    "    description='Level:'\n",
    ")\n",
    "\n",
    "# Budget slider\n",
    "budget_slider = widgets.IntSlider(\n",
    "    value=50,\n",
    "    min=0,\n",
    "    max=200,\n",
    "    step=5,\n",
    "    description='Budget ($):'\n",
    ")\n",
    "\n",
    "# Button to trigger recommendation\n",
    "recommend_button = widgets.Button(description=\"Recommend\")\n",
    "\n",
    "# Output area\n",
    "output = widgets.Output()\n",
    "\n",
    "# Event handler\n",
    "def on_recommend_clicked(b):\n",
    "    with output:\n",
    "        output.clear_output()\n",
    "        recs = recommend_courses(subject_dropdown.value, level_dropdown.value, budget_slider.value)\n",
    "        if recs.empty:\n",
    "            display(Markdown(\"**No courses found. Try adjusting your filters.**\"))\n",
    "        else:\n",
    "            display(Markdown(\"### 🎓 Recommended Courses:\"))\n",
    "            for i, row in recs.iterrows():\n",
    "                display(Markdown(f\"- **{row['course_title'].title()}** (${row['price']}) – {row['num_subscribers']} subscribers\"))\n",
    "\n",
    "recommend_button.on_click(on_recommend_clicked)\n",
    "\n",
    "# Display UI\n",
    "display(subject_dropdown, level_dropdown, budget_slider, recommend_button, output)\n"
   ]
  },
  {
   "cell_type": "markdown",
   "id": "3aafb919",
   "metadata": {},
   "source": []
  }
 ],
 "metadata": {
  "kernelspec": {
   "display_name": "Python 3",
   "language": "python",
   "name": "python3"
  },
  "language_info": {
   "codemirror_mode": {
    "name": "ipython",
    "version": 3
   },
   "file_extension": ".py",
   "mimetype": "text/x-python",
   "name": "python",
   "nbconvert_exporter": "python",
   "pygments_lexer": "ipython3",
   "version": "3.13.0"
  }
 },
 "nbformat": 4,
 "nbformat_minor": 5
}
